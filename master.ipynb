{
 "cells": [
  {
   "cell_type": "code",
   "execution_count": 15,
   "id": "f720278f-87ef-4b3a-8266-aedb82428573",
   "metadata": {},
   "outputs": [
    {
     "name": "stdout",
     "output_type": "stream",
     "text": [
      "ojas\n",
      "why\n",
      "ojas why\n"
     ]
    }
   ],
   "source": [
    "print(\"ojas\")\n",
    "print(\"why\")\n",
    "print(\"ojas\" , end = \" \")  #end keeps the code in one line\n",
    "print(\"why\")\n"
   ]
  },
  {
   "cell_type": "code",
   "execution_count": 17,
   "id": "1e3852e8-78cf-4dcf-84a5-eca67ae3c4c4",
   "metadata": {},
   "outputs": [
    {
     "name": "stdin",
     "output_type": "stream",
     "text": [
      "enter your name :  ojas\n",
      "enter your age :  19\n",
      "enter your salary :  88\n"
     ]
    },
    {
     "name": "stdout",
     "output_type": "stream",
     "text": [
      "ojas 19 88.0\n"
     ]
    }
   ],
   "source": [
    "a = input(\"enter your name : \")\n",
    "b = int(input(\"enter your age : \"))\n",
    "c = float(input(\"enter your salary : \"))\n",
    "print(a , b , c)"
   ]
  },
  {
   "cell_type": "code",
   "execution_count": 25,
   "id": "209a0f1b-6a0f-408d-9744-e9f8d8b85783",
   "metadata": {},
   "outputs": [
    {
     "name": "stdout",
     "output_type": "stream",
     "text": [
      "<class 'str'>\n",
      "<class 'int'>\n",
      "<class 'float'>\n",
      "<class 'int'>\n",
      "hey now say now\n",
      "None\n"
     ]
    }
   ],
   "source": [
    "x = \"ojas\"\n",
    "y = 57\n",
    "z = 5.77\n",
    "print(type(x))\n",
    "print(type(y))\n",
    "print(type(z))\n",
    "\n",
    "a = eval(\"123\") #eval takes the string & returnes the original datatype written\n",
    "print(type(a))\n",
    "\n",
    "b = eval('print(\"hey now say now\")') #here eval will take this string as print statement only\n",
    "print(b) #this will give output as none , as b contains eval which will already evaluate print statement "
   ]
  },
  {
   "cell_type": "code",
   "execution_count": 12,
   "id": "2543f37d-fb53-4ddc-a64e-07e15dd6c98b",
   "metadata": {},
   "outputs": [
    {
     "name": "stdout",
     "output_type": "stream",
     "text": [
      "a\n"
     ]
    }
   ],
   "source": [
    "print(chr(97))"
   ]
  },
  {
   "cell_type": "code",
   "execution_count": 5,
   "id": "28abc080-e6cd-4281-af1f-c46f7255f607",
   "metadata": {},
   "outputs": [
    {
     "data": {
      "text/plain": [
       "True"
      ]
     },
     "execution_count": 5,
     "metadata": {},
     "output_type": "execute_result"
    }
   ],
   "source": [
    "7>4"
   ]
  },
  {
   "cell_type": "code",
   "execution_count": 16,
   "id": "92a49500-c95e-4546-aa50-d80087bfc13c",
   "metadata": {},
   "outputs": [
    {
     "data": {
      "text/plain": [
       "False"
      ]
     },
     "execution_count": 16,
     "metadata": {},
     "output_type": "execute_result"
    }
   ],
   "source": [
    "5==4"
   ]
  },
  {
   "cell_type": "markdown",
   "id": "65f70796-65e8-4b68-8829-137fda269057",
   "metadata": {},
   "source": [
    "Arthemetic Operators\n",
    "\n"
   ]
  },
  {
   "cell_type": "code",
   "execution_count": 28,
   "id": "36d09059-4bfb-4add-b3d3-e5cf8ec40344",
   "metadata": {},
   "outputs": [
    {
     "name": "stdout",
     "output_type": "stream",
     "text": [
      "104\n",
      "94\n",
      "495\n",
      "19.8\n",
      "19\n",
      "4\n",
      "9509900499\n"
     ]
    }
   ],
   "source": [
    "a = 99\n",
    "b = 5\n",
    "print(a + b)\n",
    "print(a - b)\n",
    "print(a * b)\n",
    "print(a / b)\n",
    "print(a // b) #floor division gives the output of how many times the given no. is divisible before decimal\n",
    "print(a % b) #reminder\n",
    "print(a ** b) #a to the power b"
   ]
  },
  {
   "cell_type": "code",
   "execution_count": 6,
   "id": "6998b651-4fe3-4bbd-8a8d-cf4685620ba2",
   "metadata": {},
   "outputs": [
    {
     "name": "stdout",
     "output_type": "stream",
     "text": [
      "OJAS KHANDELWAL\n",
      "ojas khandelwal\n",
      "Ojas Khandelwal\n",
      "Ojas khandelwal\n",
      "OjAs KhAndELWal\n",
      "False\n",
      "False\n",
      "False\n",
      "False\n",
      "True\n"
     ]
    }
   ],
   "source": [
    "x = \"oJaS kHaNDelwAL\"\n",
    "print(x.upper())\n",
    "print(x.lower())\n",
    "print(x.title())\n",
    "print(x.capitalize()) #converts only 1st letter to uppercase\n",
    "print(x.swapcase())  # uppercase to lowercase and vice-versa\n",
    "print(x.islower())  # if all letters are in lowercase then prints true else false\n",
    "print(x.isupper())\n",
    "print(x.isalpha())  #prints true if all letters are alphabets , but here it will give false because we have 1 space which will not count as alphabet\n",
    "print(x.isdigit())\n",
    "print(x.endswith('L'))   #eese hi startswith hota hai\n",
    "\n"
   ]
  },
  {
   "cell_type": "code",
   "execution_count": 5,
   "id": "426fb2c2-8934-4e1d-a9bb-aa3ac4c0a2d1",
   "metadata": {},
   "outputs": [
    {
     "name": "stdout",
     "output_type": "stream",
     "text": [
      "my name is ojas & i love cricket\n",
      "i love cricket and my name is ojas \n"
     ]
    }
   ],
   "source": [
    "n = \"ojas\"\n",
    "m = \"cricket\"\n",
    "print(\"my name is {} & i love {}\" .format(n , m))\n",
    "print(\"i love {b} and my name is {a} \".format(a = n , b = m)) #agar format me n , m aage peeche ho jaaye acc. to sentence to eese likhna hai "
   ]
  },
  {
   "cell_type": "code",
   "execution_count": null,
   "id": "d3629e03-2a44-4237-8fa9-ab841ef071a1",
   "metadata": {},
   "outputs": [],
   "source": [
    "#LISTS\n",
    "lst = ['maths' , 'physics' , 165 , 45 , 568]\n",
    "lst.append('coding') #add the elements in the list at the last\n",
    "lst[1:4]  #indentation in lst starts from 0\n",
    "lst.insert(1 , \"english\")  #insert elements at any position\n",
    "lst.extend([99 , 69])  #if we use apppend , it will be added as a nested list\n",
    "lst.pop(2) #pickout element from specific index\n",
    "lst.count(99)  #counts the no. of occurence of 99 in the lst\n",
    "len(lst)   #length of lst\n",
    "lst.index(45 , 0 ,8)   #returns the index no. of the element b/w specific index range  index(value , start , stop) \n",
    "print(lst)"
   ]
  },
  {
   "cell_type": "code",
   "execution_count": 23,
   "id": "289ca36c-cf65-4ec3-ada2-3309a70dd164",
   "metadata": {},
   "outputs": [
    {
     "name": "stdout",
     "output_type": "stream",
     "text": [
      "{'coding'}\n"
     ]
    }
   ],
   "source": [
    "#SETS - has no duplicate element  //if there are duplicate elements they will be considered as 1 elment only\n",
    "#set does not support indexing\n",
    "\n",
    "s = set() #defining an empty set\n",
    "s1 = {'eng' , 'chem' , 'phy'}\n",
    "s2 = {'eng' , 'chem' , 'phy' , 'coding'}\n",
    "s.add('coding') #add element to the last of the set\n",
    "s2.difference(s1)  #find the difference of elements b/w both the sets\n",
    "s2.intersection(s1)  #find the common elements in both the sets\n",
    "s2.intersection_update(s1) #by this s2 will be updated to the set of intersection\n"
   ]
  },
  {
   "cell_type": "code",
   "execution_count": 34,
   "id": "24d168bb-fe77-4cb9-b1e5-fc85d92bf343",
   "metadata": {},
   "outputs": [
    {
     "data": {
      "text/plain": [
       "'ojas'"
      ]
     },
     "execution_count": 34,
     "metadata": {},
     "output_type": "execute_result"
    }
   ],
   "source": [
    "#DICTIONARIES - key n values\n",
    "d = {} #defining a dict\n",
    "d1 = {'sports' : 'cricket' , 'name':'ojas' , 'hobby':'music'}  #{key:value}\n",
    "d1['name']  #accessing value through key\n",
    "\n",
    "for x in d1: #print keys\n",
    "    print(x)\n",
    "    \n",
    "for y in d1.values(): #print values\n",
    "    print(y)\n",
    "\n",
    "for z in d1.items():  #prints boths keys n values\n",
    "    print(z)\n",
    "\n",
    "\n",
    "d1['fear'] = 'losing creativity'  #adding new items to dict\n",
    "\n",
    "d1['sports'] = 'marathon'  #replacing the value\n",
    "\n"
   ]
  },
  {
   "cell_type": "code",
   "execution_count": 42,
   "id": "631d523c-7cd3-4d5f-aa09-6106980a4a3f",
   "metadata": {},
   "outputs": [],
   "source": [
    "#NESTED DICT\n",
    "c1 = {'ferarri' : 1969}\n",
    "c2 = {'lambo' : 1999}\n",
    "c3 = {'audi' : 1987}\n",
    "ct= {'car1' : c1 , 'car2' : c2 , 'car3' : c3}\n",
    "ct['car1']['ferarri']  #1969\n",
    "ct['car2']  #{'lambo' : 1999}\n"
   ]
  },
  {
   "cell_type": "code",
   "execution_count": 48,
   "id": "648c422a-3e50-431d-97bb-939b7be7f3fa",
   "metadata": {},
   "outputs": [
    {
     "data": {
      "text/plain": [
       "2"
      ]
     },
     "execution_count": 48,
     "metadata": {},
     "output_type": "execute_result"
    }
   ],
   "source": [
    "#TUPLES - once we define a tuple ,we cannot change the elememts of the tuple\n",
    "\n",
    "t = tuple()  #defining an empty tuple\n",
    "t = ('sl' , 'usl' , 'rl')\n",
    "t[0]\n",
    "t.count('sl')\n",
    "t.index('rl')"
   ]
  },
  {
   "cell_type": "code",
   "execution_count": 4,
   "id": "3622629d-865b-4d54-8393-3ceab7a5c210",
   "metadata": {},
   "outputs": [
    {
     "name": "stdout",
     "output_type": "stream",
     "text": [
      "my name is ojas and im 19 yrs old\n"
     ]
    }
   ],
   "source": [
    "#FUNCTIONS \n",
    "\n",
    "def master(name , age=19):      #defining a func\n",
    "    print('my name is {} and im {} yrs old'.format(name,age))\n",
    "\n",
    "\n",
    "\n",
    "\n",
    "master('ojas')     #calling a func"
   ]
  },
  {
   "cell_type": "code",
   "execution_count": 6,
   "id": "86377640-ebca-4beb-8624-8bd663483350",
   "metadata": {},
   "outputs": [
    {
     "name": "stdout",
     "output_type": "stream",
     "text": [
      "('ojas', 'khandelwal')\n",
      "{'age': 19, 'dob': 6}\n"
     ]
    }
   ],
   "source": [
    "def info(*arg , **kwarg):    #* is used to capture positional argument   #** is used to capture keyword argument (key=value)\n",
    "    print(arg)\n",
    "    print(kwarg)\n",
    "\n",
    "\n",
    "\n",
    "info('ojas','khandelwal' , age=19,dob=6)\n",
    "\n"
   ]
  },
  {
   "cell_type": "code",
   "execution_count": 12,
   "id": "78d533f9-024a-4f06-a3d8-c521074b6ad0",
   "metadata": {},
   "outputs": [
    {
     "data": {
      "text/plain": [
       "['odd', 'even', 'odd', 'even', 'odd', 'odd', 'odd']"
      ]
     },
     "execution_count": 12,
     "metadata": {},
     "output_type": "execute_result"
    }
   ],
   "source": [
    "#MAP FUNC - allows you to apply a specified function to every item in an iterable (such as a list, tuple, or string) & find if the condn is true or not\n",
    "\n",
    "lst = [1,2,3,4,5,67,65]\n",
    "\n",
    "def eoo(num):\n",
    "    if num%2==0:\n",
    "        return 'even'\n",
    "    else:\n",
    "        return 'odd'\n",
    "\n",
    "\n",
    "list(map(eoo,lst))  #list is used to list out multiple outputs "
   ]
  },
  {
   "cell_type": "code",
   "execution_count": 14,
   "id": "e82f459c-f516-4c18-aeba-a14ccbd3b440",
   "metadata": {},
   "outputs": [
    {
     "data": {
      "text/plain": [
       "51"
      ]
     },
     "execution_count": 14,
     "metadata": {},
     "output_type": "execute_result"
    }
   ],
   "source": [
    "#LAMBDA/ANONYMOUS FUNC - func with no name \n",
    "\n",
    "\n",
    "addn=lambda a,b:a+b  #variable = lambda inputs you want to give : operation you want to perform with those inputs\n",
    "addn(45,6) \n",
    "\n"
   ]
  },
  {
   "cell_type": "code",
   "execution_count": 18,
   "id": "0ea9431a-bfe2-4a74-a56a-4345f293d56b",
   "metadata": {},
   "outputs": [
    {
     "data": {
      "text/plain": [
       "[76, 54, 56]"
      ]
     },
     "execution_count": 18,
     "metadata": {},
     "output_type": "execute_result"
    }
   ],
   "source": [
    "#FILTER FUNC - it filter out the elements when the condn is true\n",
    "\n",
    "\n",
    "lst=[5,76,54,3,56]\n",
    "\n",
    "list(filter(lambda num:num%2==0,lst))"
   ]
  },
  {
   "cell_type": "code",
   "execution_count": 23,
   "id": "1cee1456-869c-40e2-b0e6-eac3036c9eaa",
   "metadata": {},
   "outputs": [
    {
     "name": "stdout",
     "output_type": "stream",
     "text": [
      "[0, 2, 4, 6, 8]\n"
     ]
    }
   ],
   "source": [
    "#LIST COMPREHENSION -  it is a concise way to create lists. \n",
    "#It allows you to generate a new list by applying an expression to each item in an iterable (like a list, tuple, range, etc.) in a single line of code.\n",
    "\n",
    "\n",
    "lst = [x for x in range(10) if x%2==0]\n",
    "print(lst)"
   ]
  },
  {
   "cell_type": "code",
   "execution_count": 29,
   "id": "a06da147-8be0-4cd2-860f-a4e7a7f74891",
   "metadata": {},
   "outputs": [
    {
     "name": "stdout",
     "output_type": "stream",
     "text": [
      "My name is ojas and I am 19 years old.\n",
      "my name is ojas and i am 19 yrs old.\n"
     ]
    }
   ],
   "source": [
    "#STRING FORMATTING\n",
    "\n",
    "name = \"ojas\"\n",
    "age = 19\n",
    "\n",
    "way1 = \"My name is %s and I am %d years old.\" % (name, age)     #%s=string %d=int %f=float \n",
    "way2 = 'my name is {} and i am {} yrs old.'.format(name , age)\n",
    "print(way1)\n",
    "print(way2)\n"
   ]
  },
  {
   "cell_type": "code",
   "execution_count": null,
   "id": "8a576445-41f3-4307-8d31-9cde73e409bb",
   "metadata": {},
   "outputs": [],
   "source": []
  }
 ],
 "metadata": {
  "kernelspec": {
   "display_name": "Python 3 (ipykernel)",
   "language": "python",
   "name": "python3"
  },
  "language_info": {
   "codemirror_mode": {
    "name": "ipython",
    "version": 3
   },
   "file_extension": ".py",
   "mimetype": "text/x-python",
   "name": "python",
   "nbconvert_exporter": "python",
   "pygments_lexer": "ipython3",
   "version": "3.12.7"
  }
 },
 "nbformat": 4,
 "nbformat_minor": 5
}
