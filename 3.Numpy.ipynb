{
 "cells": [
  {
   "cell_type": "code",
   "execution_count": 1,
   "id": "e3b1e9d9-f43c-4516-85a6-2ccabf363e12",
   "metadata": {},
   "outputs": [
    {
     "data": {
      "text/plain": [
       "(4,)"
      ]
     },
     "execution_count": 1,
     "metadata": {},
     "output_type": "execute_result"
    }
   ],
   "source": [
    "#NUMPY - used to create arrays\n",
    "import numpy as np\n",
    "lst = [1,23,4,5]  #1D array\n",
    "arr = np.array(lst)\n",
    "arr.shape  #tells the no. of rows and columns \n"
   ]
  },
  {
   "cell_type": "code",
   "execution_count": 8,
   "id": "0cf74d73-2d48-4f47-9a64-a9209a4a9591",
   "metadata": {},
   "outputs": [
    {
     "data": {
      "text/plain": [
       "array([  0,   2,   4, 200, 200, 200, 200,  14,  16,  18])"
      ]
     },
     "execution_count": 8,
     "metadata": {},
     "output_type": "execute_result"
    }
   ],
   "source": [
    "#multinested array\n",
    "l1 =[35,4,56,7]\n",
    "l2 = [33,5,4,6]\n",
    "l3 = [7,9,67,5]\n",
    "arr = np.array([l1,l2,l3])\n",
    "arr.reshape(4,3)  #changes the dimension of array from 3x4 to 4x3 \n",
    "#we can reshape the array to dimensiona that have same no. of elements\n",
    "\n",
    "arr[1, 3]  #indexing in 2D array is done like this [row index , column index] both indexes start from zero\n",
    "arr[1: , 2:]\n",
    "\n",
    "arr = np.arange(0 , 10)  #arange creates a 1D array b/w the given range => range(start , stop , step)\n",
    "\n",
    "np.linspace(1 ,10 , 30)  #linespace(start , stop , how many points i want b/w the range) \n",
    "\n",
    "arr[3:7] = 100  #this is called broadcasting , means in array we change the value of elements in index 3-7 as 100 \n",
    "\n",
    "arr1 = arr.copy()  #if we do this arr1=arr & modify arr1 , arr would've been modified automatically as arr1has same memory space as arr\n",
    "#butafter using copy() , seperated memory space for arr1 was created , so now if we modify arr1 , arr would remain as it is\n",
    "arr1[3:9] = 49\n",
    "\n",
    "\n",
    "arr1<2  #here it will check all the elements & print true false accordingly\n",
    "\n",
    "arr*2  #all the elements will be multiplied by 2\n",
    "\n",
    "arr[arr<20]    #here it will give all the elements that are less than 200\n",
    "\n",
    "np.ones((7,2) , dtype=int)  #creates an array where all the elements are 1 \n",
    "\n",
    "np.random.rand(3,3)   #creates amn array with random nums b/w 0 to 1\n",
    "\n",
    "np.random.randn(4,5) #selects random values based on standard normal distribution\n",
    "\n"
   ]
  }
 ],
 "metadata": {
  "kernelspec": {
   "display_name": "Python 3 (ipykernel)",
   "language": "python",
   "name": "python3"
  },
  "language_info": {
   "codemirror_mode": {
    "name": "ipython",
    "version": 3
   },
   "file_extension": ".py",
   "mimetype": "text/x-python",
   "name": "python",
   "nbconvert_exporter": "python",
   "pygments_lexer": "ipython3",
   "version": "3.12.7"
  }
 },
 "nbformat": 4,
 "nbformat_minor": 5
}
