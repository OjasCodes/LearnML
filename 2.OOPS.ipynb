{
 "cells": [
  {
   "cell_type": "markdown",
   "id": "530407bb-8e47-4cdd-83b0-d1268102aea8",
   "metadata": {},
   "source": [
    "To map with real world scenerios , we use oops"
   ]
  },
  {
   "cell_type": "code",
   "execution_count": 1,
   "id": "5d726103-22c0-4d62-b075-8604cbc66d41",
   "metadata": {},
   "outputs": [
    {
     "name": "stdout",
     "output_type": "stream",
     "text": [
      "ojas\n"
     ]
    }
   ],
   "source": [
    "#CLASS - blueprint for creating objects\n",
    "\n",
    "class Student:   #creating a class\n",
    "    name = 'ojas'\n",
    "    \n",
    "\n",
    "s1 = Student()   #creating an object\n",
    "print(s1.name)"
   ]
  },
  {
   "cell_type": "code",
   "execution_count": 12,
   "id": "8cfc1b4a-9ade-4180-bb0f-7bce1e9252e5",
   "metadata": {},
   "outputs": [
    {
     "name": "stdout",
     "output_type": "stream",
     "text": [
      "manipal university jaipur\n",
      "welcome student!!!!!!!!!!\n",
      "ojas\n",
      "65\n",
      "welcome student!!!!!!!!!!\n",
      "ravi 67\n"
     ]
    }
   ],
   "source": [
    "#CONSTRUCTOR - __init__ function  => always executed when the object is being initiated\n",
    " \n",
    "#default constructor => jisme sirf self as a parameter ho\n",
    "#parameterized constructor => jisme self ke alawa bhi koi parameter ho\n",
    "\n",
    "# preference -obj attr>class attr  eg: ek CA bana do 'name' se usme koi name daala phir usko print karwao to jo uski value OA me thi vahi print hogi\n",
    "\n",
    "class Student:\n",
    "\n",
    "    college_name = 'manipal university jaipur'   #Class Attribute - jo cheez common hoti hai sab objects ke liye usko hum class attribute bana dete hai\n",
    "\n",
    "    \n",
    "    def __init__(self,name , marks):   #init me 1st parameter humesha self rahega    \n",
    "        self.name = name  #object attribute                #self.name ka matlab harr object ka naam alag hai     \n",
    "        self.marks = marks #self.marks \"  \"      \"     \"     \" marks  \"   \"\n",
    "\n",
    "\n",
    "    #METHODS - Func's that belong to objects\n",
    "    def welcome(self):      #ceating a method\n",
    "        print('welcome student!!!!!!!!!!')\n",
    "\n",
    "    def result(self):\n",
    "        return self.marks\n",
    "\n",
    "\n",
    "print(Student.college_name)   #we can use s1 & s2 too ,instead of student\n",
    "\n",
    "\n",
    "s1.welcome()   #calling a method   \n",
    "s1 = Student('ojas' , 65)\n",
    "print(s1.name )\n",
    "print(s1.result())   \n",
    "\n",
    "\n",
    "\n",
    "s2.welcome()\n",
    "s2 = Student('ravi' , 67)\n",
    "print(s2.name,s2.marks)\n",
    "\n"
   ]
  },
  {
   "cell_type": "code",
   "execution_count": 26,
   "id": "f7afdf40-f17c-4c97-b092-2efa07e4fdb5",
   "metadata": {},
   "outputs": [
    {
     "name": "stdout",
     "output_type": "stream",
     "text": [
      "manipal\n",
      "59.0\n"
     ]
    }
   ],
   "source": [
    "#practice\n",
    "\n",
    "class Student:\n",
    "\n",
    "    college_name = 'manipal'\n",
    "    \n",
    "\n",
    "    def __init__(self,name,marks):\n",
    "        self.name = name\n",
    "        self.marks = marks\n",
    "\n",
    "\n",
    "    def avg(self):\n",
    "        sum=0\n",
    "        for i in self.marks:\n",
    "            sum+=i\n",
    "        return sum/3\n",
    "\n",
    "\n",
    "\n",
    "print(Student.college_name)\n",
    "\n",
    "s1 = Student('ojas',[70,65,42])\n",
    "print(s1.avg())"
   ]
  },
  {
   "cell_type": "code",
   "execution_count": 28,
   "id": "282cd9c1-a2f7-469b-be9d-291f0d8749bd",
   "metadata": {},
   "outputs": [
    {
     "name": "stdout",
     "output_type": "stream",
     "text": [
      "whhfvnf bn\n"
     ]
    }
   ],
   "source": [
    "#STATIC METHODS - methods that dont use self parameter\n",
    "\n",
    "class Student:\n",
    "\n",
    "    @staticmethod    #decorator -  ye ek func ko leta hai , uska behaviour change karta hai , then waapis vo func return kar deta hai  \n",
    "    def hello():\n",
    "        print('whhfvnf bn')\n",
    "\n",
    "\n",
    "s1 = Student()\n",
    "s1.hello()"
   ]
  },
  {
   "cell_type": "code",
   "execution_count": 29,
   "id": "330114a6-517a-491d-aa40-bd6cb5847bbb",
   "metadata": {},
   "outputs": [
    {
     "name": "stdout",
     "output_type": "stream",
     "text": [
      "car started!!!!\n"
     ]
    }
   ],
   "source": [
    "#ABSTRACTION - hiding the implementation details of a class & only showing the essential features to the user\n",
    "#jese car jab hum chalate hai to hume ye nahi dikhta ki combustion kese ho raha hai , engine kese work kar raha hai\n",
    "\n",
    "\n",
    "class Car:\n",
    "    def __init__(self):\n",
    "        self.acc = False\n",
    "        self.brk=False\n",
    "        self.clutch = False\n",
    "\n",
    "\n",
    "    def start(self):\n",
    "        \n",
    "        self.brk=True\n",
    "        self.clutch = True\n",
    "        print('car started!!!!')\n",
    "\n",
    "\n",
    "\n",
    "c1 = Car()\n",
    "\n",
    "c1.start()\n",
    "\n",
    "\n",
    "#ENCAPSULATION - wrapping funcs and data into a single unit  (object hi encapsulation hota hai)"
   ]
  },
  {
   "cell_type": "code",
   "execution_count": 42,
   "id": "f1fc8545-27a8-470b-baa5-e14b5b20e638",
   "metadata": {},
   "outputs": [
    {
     "name": "stdout",
     "output_type": "stream",
     "text": [
      "debit 86077\n",
      "credit 153641\n",
      "153641\n"
     ]
    }
   ],
   "source": [
    "\n",
    "class Account:\n",
    "    def __init__(self,balance,acc_no):\n",
    "        self.bal=balance\n",
    "        self.num=acc_no\n",
    "\n",
    "    def debit(self,amount):\n",
    "        self.bal -=amount\n",
    "        print('debit',self.bal)\n",
    "\n",
    "    def credit(self,money):\n",
    "        self.bal+=money\n",
    "        print('credit' , self.bal)\n",
    "\n",
    "    def acc(self):\n",
    "        return a1.bal\n",
    "        \n",
    "        \n",
    "\n",
    "\n",
    "a1 = Account(86754,'gver4trr56tg5')\n",
    "a1.debit(677)\n",
    "a1.credit(67564)\n",
    "print(a1.acc())\n"
   ]
  },
  {
   "cell_type": "code",
   "execution_count": 46,
   "id": "d20724c0-fa0c-4289-86a8-5351dd54c672",
   "metadata": {},
   "outputs": [
    {
     "name": "stdout",
     "output_type": "stream",
     "text": [
      "ojas\n"
     ]
    },
    {
     "ename": "NameError",
     "evalue": "name 's1' is not defined",
     "output_type": "error",
     "traceback": [
      "\u001b[1;31m---------------------------------------------------------------------------\u001b[0m",
      "\u001b[1;31mNameError\u001b[0m                                 Traceback (most recent call last)",
      "Cell \u001b[1;32mIn[46], line 13\u001b[0m\n\u001b[0;32m      9\u001b[0m \u001b[38;5;28mprint\u001b[39m(s1\u001b[38;5;241m.\u001b[39mname)\n\u001b[0;32m     11\u001b[0m \u001b[38;5;28;01mdel\u001b[39;00m s1  \u001b[38;5;66;03m#ab humne \u001b[39;00m\n\u001b[1;32m---> 13\u001b[0m \u001b[38;5;28mprint\u001b[39m(s1\u001b[38;5;241m.\u001b[39mname)\n",
      "\u001b[1;31mNameError\u001b[0m: name 's1' is not defined"
     ]
    }
   ],
   "source": [
    "#del - used to delete object properties or object itself\n",
    "\n",
    "class Student:\n",
    "    def __init__(self,name):\n",
    "        self.name=name\n",
    "\n",
    "\n",
    "s1 = Student('ojas')\n",
    "print(s1.name)\n",
    "\n",
    "del s1  #ab humne s1 ko delete kardiyo , so jab hum dubara print karwaaenge to error me bolega 's1 is not defined'\n",
    "\n",
    "print(s1.name)"
   ]
  },
  {
   "cell_type": "code",
   "execution_count": 55,
   "id": "e4f21958-faef-4983-9354-e6dd1bc5d135",
   "metadata": {},
   "outputs": [
    {
     "name": "stdout",
     "output_type": "stream",
     "text": [
      "ojas\n",
      "7865\n"
     ]
    },
    {
     "ename": "AttributeError",
     "evalue": "'Student' object has no attribute '__password'",
     "output_type": "error",
     "traceback": [
      "\u001b[1;31m---------------------------------------------------------------------------\u001b[0m",
      "\u001b[1;31mAttributeError\u001b[0m                            Traceback (most recent call last)",
      "Cell \u001b[1;32mIn[55], line 16\u001b[0m\n\u001b[0;32m     13\u001b[0m \u001b[38;5;28mprint\u001b[39m(s1\u001b[38;5;241m.\u001b[39mname)\n\u001b[0;32m     14\u001b[0m s1\u001b[38;5;241m.\u001b[39mpassw()  \u001b[38;5;66;03m#ye password de dega kyuki humne isko func bana kar class scope ke andar print karwaya hai\u001b[39;00m\n\u001b[1;32m---> 16\u001b[0m \u001b[38;5;28mprint\u001b[39m(s1\u001b[38;5;241m.\u001b[39m__password)\n",
      "\u001b[1;31mAttributeError\u001b[0m: 'Student' object has no attribute '__password'"
     ]
    }
   ],
   "source": [
    "#private attr & methods - meant to be used only within the class & are not accessible from outside the class\n",
    "\n",
    "class Student: \n",
    "    def __init__(self,name,password):\n",
    "        self.name=name    \n",
    "        self.__password = password  #private banane ke liye uske aage 2 underscore lagane hote hai\n",
    "\n",
    "    def passw(self):\n",
    "        print(self.__password)\n",
    "\n",
    "\n",
    "s1=Student('ojas',7865) #ye public hai kyuki hum isko class ke scope se bahar access kar rahe hai\n",
    "print(s1.name)\n",
    "s1.passw()  #ye password de dega kyuki humne isko func bana kar class scope ke andar print karwaya hai\n",
    "\n",
    "print(s1.__password)   #ye error dega kyuki hum password ko class ke scope se bahar access nahi kar sakte\n"
   ]
  },
  {
   "cell_type": "code",
   "execution_count": 58,
   "id": "ee30021b-df93-406c-8340-667dc99ab41d",
   "metadata": {},
   "outputs": [
    {
     "name": "stdout",
     "output_type": "stream",
     "text": [
      "start.......\n",
      "start.......\n"
     ]
    }
   ],
   "source": [
    "#INHERITANCE - when one class derives the properties & methods of another class\n",
    "\n",
    "\n",
    "class Car:\n",
    "    @staticmethod\n",
    "    def start():\n",
    "        print('start.......')\n",
    "     \n",
    "    @staticmethod   \n",
    "    def stop():\n",
    "        print('stop.....')\n",
    "        \n",
    "#Lambo ke andar humne Car ko inherit kar diya\n",
    "class Lambo(Car):            #Single inheritance \n",
    "    def __init__(self,name):\n",
    "        self.name = name\n",
    "\n",
    "\n",
    "s1 = Lambo('toyota')\n",
    "s1.start()\n",
    "\n",
    "\n",
    "class Suv(Lambo):       #multi level inheritance  #suv inherit with lambo which is inherited with car\n",
    "    def __init__(self,typ):\n",
    "        self.type=typ\n",
    "\n",
    "s2 = Suv('diesel')\n",
    "s2.start()\n",
    "\n"
   ]
  },
  {
   "cell_type": "code",
   "execution_count": 61,
   "id": "b98c8692-ef75-46e3-8593-73933e8ab365",
   "metadata": {},
   "outputs": [
    {
     "name": "stdout",
     "output_type": "stream",
     "text": [
      "wlcm to A\n",
      "welcome to C\n",
      "wlcm to B\n"
     ]
    }
   ],
   "source": [
    "#multiple inheritance\n",
    "\n",
    "class A:\n",
    "    a = 'wlcm to A'\n",
    "\n",
    "class B:\n",
    "    b = 'wlcm to B'\n",
    "\n",
    "class C(A,B):  #ek class 2 class se inherited hai \n",
    "    c = 'welcome to C'\n",
    "\n",
    "c1=C()\n",
    "print(c1.a)\n",
    "print(c1.c)\n",
    "print(c1.b)\n",
    "    \n",
    "    "
   ]
  },
  {
   "cell_type": "code",
   "execution_count": 66,
   "id": "d6f3bd92-be33-4f06-b883-625d6895c2c0",
   "metadata": {},
   "outputs": [
    {
     "name": "stdout",
     "output_type": "stream",
     "text": [
      "petrol\n"
     ]
    }
   ],
   "source": [
    "#SUPER METHOD => super() is used to access methods of parent class \n",
    "\n",
    "\n",
    "class Car:\n",
    "    def __init__(self,typ):\n",
    "        self.typ = typ\n",
    "         \n",
    "    @staticmethod\n",
    "    def start():\n",
    "        print('start.......')\n",
    "     \n",
    "    @staticmethod   \n",
    "    def stop():\n",
    "        print('stop.....')\n",
    "        \n",
    "class Lambo(Car):           \n",
    "    def __init__(self,name,typ):   \n",
    "        self.name = name\n",
    "        super().__init__(typ)  #as we have to access typ in Lambo , so we will use super which will access ous typ from parent class\n",
    "\n",
    "\n",
    "\n",
    "c1 = Lambo('suv' , 'petrol')\n",
    "print(c1.typ)\n",
    "\n"
   ]
  },
  {
   "cell_type": "code",
   "execution_count": 72,
   "id": "54d78ad7-f8a2-4414-85b2-a247798fac49",
   "metadata": {},
   "outputs": [
    {
     "name": "stdout",
     "output_type": "stream",
     "text": [
      "ojas\n",
      "ojas\n"
     ]
    }
   ],
   "source": [
    "#CLASS METHOD - bound to the class & recieves the class as an implicitfirst argument\n",
    "\n",
    "#the problem with static mothod is that they cant access or modify class state\n",
    "#static method generally tab use hota hai jab func me koi attribute na ho\n",
    "\n",
    "class Person:\n",
    "    name = 'anon'  #now if we want to change the value of class attribute we cant do it directly , so we use class method\n",
    "    \n",
    "    @classmethod     #decorator    #now we have access to class attr inside a func \n",
    "    def changename(cls,name):    #bracket me 1st parameter cls hoga while using class method  \n",
    "        cls.name= name \n",
    "\n",
    "\n",
    "p1 = Person()\n",
    "p1.changename('ojas')\n",
    "print(p1.name)\n",
    "print(Person.name)"
   ]
  },
  {
   "cell_type": "code",
   "execution_count": 76,
   "id": "5b34c1f4-4e71-4c6e-8c9b-4f9752292128",
   "metadata": {},
   "outputs": [
    {
     "data": {
      "text/plain": [
       "62.333333333333336"
      ]
     },
     "execution_count": 76,
     "metadata": {},
     "output_type": "execute_result"
    }
   ],
   "source": [
    "#PROPERTY DECORATOR\n",
    "\n",
    "class Student:\n",
    "    def __init__(self , phy ,chem , math):\n",
    "        self.phy=phy\n",
    "        self.chem=chem\n",
    "        self.math=math\n",
    "\n",
    "    @property\n",
    "    def avg(self):\n",
    "        return ((self.phy+self.chem+self.math)/3)\n",
    "\n",
    "\n",
    "s1 = Student(65,75,67)\n",
    "s1.avg   #ans - 69\n",
    "\n",
    "#now assume humne phy ki value galat rakhdi & we want to change it \n",
    "\n",
    "s1.phy = 45   #phy value changed \n",
    "\n",
    "#phy value is changed but when we class the func it will give avg acc. to old value \n",
    "#thats why we use property , which helps us to change the value of parameter inside a func , outside the func anywhere\n",
    "\n",
    "s1.avg  #ans - 62.33   "
   ]
  },
  {
   "cell_type": "code",
   "execution_count": 77,
   "id": "85364370-53e9-46a5-a328-ed5106ad3332",
   "metadata": {},
   "outputs": [
    {
     "name": "stdout",
     "output_type": "stream",
     "text": [
      "3\n",
      "ojaskh\n",
      "[1, 2, 34, 76, 5, 4]\n"
     ]
    }
   ],
   "source": [
    "#POLYMORPHISM - when the same operator is allowed to have different meaning acc. to the context  (operator overloading)\n",
    "\n",
    "#eg - \n",
    "\n",
    "print(1+2)   # here + means add\n",
    "print('ojas'+ 'kh')   # # here + means cancatenate\n",
    "print([1,2,34]+[76,5,4])   # here + means merge\n",
    "\n",
    "\n",
    "#This implicit polymorphism which is already in python\n",
    "\n",
    "#Now we have see how we can do explicit polym for our classes"
   ]
  },
  {
   "cell_type": "code",
   "execution_count": 92,
   "id": "f6a085cf-664d-4425-a761-ad4dd9875ae7",
   "metadata": {},
   "outputs": [
    {
     "name": "stdout",
     "output_type": "stream",
     "text": [
      "45 + 6 i\n",
      "3 + 8 i\n",
      "48 + 14 i\n"
     ]
    }
   ],
   "source": [
    "class Complex:\n",
    "\n",
    "    def __init__(self,real,img):\n",
    "        self.real=real\n",
    "        self.img=img\n",
    "\n",
    "    def show(self):\n",
    "        print(self.real , '+' , self.img ,'i')\n",
    "\n",
    "    def __add__(self , c2):  # __add__ is a dunder fkn \n",
    "        new_real = self.real + c2.real\n",
    "        new_img = self.img + c2.img\n",
    "        return Complex(new_real,new_img)\n",
    "\n",
    "\n",
    "c1 = Complex(45,6)\n",
    "c1.show()\n",
    "\n",
    "\n",
    "c2 = Complex(3,8)\n",
    "c2.show()\n",
    "\n",
    "c3 = c1 + c2\n",
    "c3.show()\n"
   ]
  },
  {
   "cell_type": "markdown",
   "id": "dbf7ed34-0074-49c0-a710-8221b40016c6",
   "metadata": {},
   "source": [
    "Dunder fkns of diff. operations :-\n",
    "\n",
    "+ => __add__\n",
    "\n",
    "- => __sub__\n",
    "\n",
    "* => __mul___\n",
    "\n",
    "/ => __truediv____\n",
    "\n",
    "% => __mod____"
   ]
  },
  {
   "cell_type": "code",
   "execution_count": 100,
   "id": "e9815a77-0b8d-4c62-b304-57b895de2d3c",
   "metadata": {},
   "outputs": [
    {
     "name": "stdout",
     "output_type": "stream",
     "text": [
      "78.5\n",
      "31.400000000000002\n"
     ]
    }
   ],
   "source": [
    "#practice\n",
    "\n",
    "class Circle:\n",
    "    def __init__(self , radius):\n",
    "        self.radius = radius\n",
    "\n",
    "    def area(self):\n",
    "        area = (3.14)*(c1.radius**2)\n",
    "        print(area)\n",
    "\n",
    "    \n",
    "    def peri(self):\n",
    "        peri = 2*(3.14)*c1.radius\n",
    "        print(peri)\n",
    "\n",
    "\n",
    "c1 = Circle(5)\n",
    "c1.area()\n",
    "c1.peri()"
   ]
  },
  {
   "cell_type": "code",
   "execution_count": null,
   "id": "724eefdf-3cd7-4b69-8756-2e2052c70145",
   "metadata": {},
   "outputs": [],
   "source": []
  },
  {
   "cell_type": "code",
   "execution_count": null,
   "id": "356002d4-6467-4b30-aee5-22e62a34aa06",
   "metadata": {},
   "outputs": [],
   "source": []
  }
 ],
 "metadata": {
  "kernelspec": {
   "display_name": "Python 3 (ipykernel)",
   "language": "python",
   "name": "python3"
  },
  "language_info": {
   "codemirror_mode": {
    "name": "ipython",
    "version": 3
   },
   "file_extension": ".py",
   "mimetype": "text/x-python",
   "name": "python",
   "nbconvert_exporter": "python",
   "pygments_lexer": "ipython3",
   "version": "3.12.7"
  }
 },
 "nbformat": 4,
 "nbformat_minor": 5
}
